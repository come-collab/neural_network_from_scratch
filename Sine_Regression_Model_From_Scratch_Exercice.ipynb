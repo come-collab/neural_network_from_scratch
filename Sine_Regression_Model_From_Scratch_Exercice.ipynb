{
 "cells": [
  {
   "cell_type": "markdown",
   "metadata": {},
   "source": [
    "### This textbook is a test of knowledge from the neural network from scratch book"
   ]
  }
 ],
 "metadata": {
  "language_info": {
   "name": "python"
  }
 },
 "nbformat": 4,
 "nbformat_minor": 2
}
